{
 "cells": [
  {
   "cell_type": "markdown",
   "id": "84acfe8e-1e01-406c-9202-909dc65e150b",
   "metadata": {},
   "source": [
    "# Data Science Tools and Ecosystem\n"
   ]
  },
  {
   "cell_type": "markdown",
   "id": "982fd488-4f37-4963-89b0-0cb0f5d76ef4",
   "metadata": {},
   "source": [
    "In this notebook, Data Science Tools and Ecosystem are summarized.\n"
   ]
  },
  {
   "cell_type": "markdown",
   "id": "77963b2f-dbd2-43cb-a1f9-cb5d701a032e",
   "metadata": {},
   "source": [
    "Some of the popular languages that Data Scientists use are:\n",
    "1. Python\n",
    "2. R\n",
    "3. SQL\n",
    "4. Julia\n",
    "5. Java\n"
   ]
  },
  {
   "cell_type": "markdown",
   "id": "82b63496-e397-456f-bd55-d98b685489f8",
   "metadata": {},
   "source": [
    "Some of the commonly used libraries used by Data Scientists include:\n",
    "1. Pandas\n",
    "2. NumPy\n",
    "3. Matplotlib\n",
    "4. TensorFlow\n",
    "5. SciPy\n"
   ]
  },
  {
   "cell_type": "code",
   "execution_count": null,
   "id": "61d7f6c2-8aed-48c6-bb29-c1b9f675ca9f",
   "metadata": {},
   "outputs": [],
   "source": []
  },
  {
   "cell_type": "markdown",
   "id": "5d94c125-e378-400e-b723-c0f5dcfc8b6b",
   "metadata": {},
   "source": [
    "| Data Science Tools |\n",
    "|--------------------|\n",
    "| Jupyter Notebook    |\n",
    "| RStudio             |\n",
    "| Apache Zeppelin     |\n"
   ]
  },
  {
   "cell_type": "markdown",
   "id": "0ad0aa77-ef91-48f2-a9f0-c85b3578a645",
   "metadata": {},
   "source": [
    "### Below are a few examples of evaluating arithmetic expressions in Python.\n"
   ]
  },
  {
   "cell_type": "code",
   "execution_count": 15,
   "id": "9b7fdb11-539b-4a1b-9e82-73c38f2a028d",
   "metadata": {},
   "outputs": [
    {
     "data": {
      "text/plain": [
       "17"
      ]
     },
     "execution_count": 15,
     "metadata": {},
     "output_type": "execute_result"
    }
   ],
   "source": [
    "# This is a simple arithmetic expression to multiply then add integers\n",
    "(3*4) + 5\n"
   ]
  },
  {
   "cell_type": "code",
   "execution_count": 17,
   "id": "ea766a19-bab5-42e0-8e01-9977b419d9ef",
   "metadata": {},
   "outputs": [
    {
     "data": {
      "text/plain": [
       "3.3333333333333335"
      ]
     },
     "execution_count": 17,
     "metadata": {},
     "output_type": "execute_result"
    }
   ],
   "source": [
    "# This will convert 200 minutes to hours by dividing by 60\n",
    "200 / 60\n"
   ]
  },
  {
   "cell_type": "markdown",
   "id": "00b6bb65-c29e-4ffd-a127-0c265be4b646",
   "metadata": {},
   "source": [
    "**Objectives:**\n",
    "- List popular languages for Data Science\n",
    "- List commonly used libraries in Data Science\n",
    "- Evaluate arithmetic expressions\n",
    "- Convert units (e.g., minutes to hours)\n"
   ]
  },
  {
   "cell_type": "markdown",
   "id": "7fd2366d-0b26-415e-b0bc-def15ca7c0c9",
   "metadata": {},
   "source": [
    "## Author\n",
    "Yash Parmar\n"
   ]
  },
  {
   "cell_type": "code",
   "execution_count": null,
   "id": "5fe54612-5f25-4208-8ef1-7d6c6fbf3d9f",
   "metadata": {},
   "outputs": [],
   "source": []
  }
 ],
 "metadata": {
  "kernelspec": {
   "display_name": "Python 3 (ipykernel)",
   "language": "python",
   "name": "python3"
  },
  "language_info": {
   "codemirror_mode": {
    "name": "ipython",
    "version": 3
   },
   "file_extension": ".py",
   "mimetype": "text/x-python",
   "name": "python",
   "nbconvert_exporter": "python",
   "pygments_lexer": "ipython3",
   "version": "3.12.4"
  }
 },
 "nbformat": 4,
 "nbformat_minor": 5
}
